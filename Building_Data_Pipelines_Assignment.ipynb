{
  "nbformat": 4,
  "nbformat_minor": 0,
  "metadata": {
    "colab": {
      "name": "Building Data Pipelines Assignment",
      "provenance": [],
      "collapsed_sections": [
        "h3axa8FJDLfr"
      ],
      "include_colab_link": true
    },
    "kernelspec": {
      "name": "python3",
      "display_name": "Python 3"
    },
    "language_info": {
      "name": "python"
    }
  },
  "cells": [
    {
      "cell_type": "markdown",
      "metadata": {
        "id": "view-in-github",
        "colab_type": "text"
      },
      "source": [
        "<a href=\"https://colab.research.google.com/github/RBaragu/Imbalanced-classification/blob/main/Building_Data_Pipelines_Assignment.ipynb\" target=\"_parent\"><img src=\"https://colab.research.google.com/assets/colab-badge.svg\" alt=\"Open In Colab\"/></a>"
      ]
    },
    {
      "cell_type": "markdown",
      "metadata": {
        "id": "rFKyiuxG9yPw"
      },
      "source": [
        "# Project Notebook: Building Data Pipelines"
      ]
    },
    {
      "cell_type": "markdown",
      "metadata": {
        "id": "hzRQzJDP92yt"
      },
      "source": [
        "## 1. Introduction to the Data"
      ]
    },
    {
      "cell_type": "markdown",
      "metadata": {
        "id": "8gT_nUX69632"
      },
      "source": [
        "In this past, we began with the concepts of functional programming, and then built our own data pipeline class in Python. We learned about advanced Python concepts such as the decorators and closures. In the last session, we also learned how to implement a directed acyclic graph as the scheduler for our pipeline.\n",
        "\n",
        "After completing all these sessions, we have finally built a robust data pipeline that schedules our tasks in the correct order! In this project, we will use the pipeline we have been building, and apply it to a real world data pipeline project.\n",
        "\n",
        "From a JSON API, we will filter, clean, aggregate, and summarize data in a sequence of tasks that will apply these transformations for us.\n",
        "\n",
        "The data we will use comes from a Hacker News (HN) API that returns JSON data of the top stories in 2014. If you're unfamiliar with Hacker News, it's a link aggregator website that users vote up stories that are interesting to the community. It is similar to Reddit, but the community only revolves around on computer science and entrepreneurship posts.\n",
        "\n",
        "To make things easier, we have already downloaded a list of JSON posts to a file called `hn_stories_2014.json` (https://bit.ly/32EDt65). The JSON file contains a single key stories, which contains a list of stories (posts). Each post has a set of keys, but we will deal only with the following keys:\n",
        "\n",
        "* `created_at`: A timestamp of the story's creation time.\n",
        "* `created_at_i`: A unix epoch timestamp.\n",
        "* `url`: The URL of the story link.\n",
        "* `objectID`: The ID of the story.\n",
        "* `author`: The story's author (username on HN).\n",
        "* `points`: The number of upvotes the story had.\n",
        "* `title`: The headline of the post.\n",
        "* `num_comments`: The number of a comments a post has.\n",
        "\n",
        "Here's an example of the full list of keys in a story:\n",
        "\n",
        "```\n",
        "{\n",
        "    \"story_text\": \"\",\n",
        "    \"created_at\": \"2014-05-29T08:23:46Z\",\n",
        "    \"story_title\": null,\n",
        "    \"story_id\": null,\n",
        "    \"comment_text\": null,\n",
        "    \"created_at_i\": 1401351826,\n",
        "    \"url\": \"http://bits.blogs.nytimes.com/2014/05/28/making-twitter-easier-to-use/\",\n",
        "    \"parent_id\": null,\n",
        "    \"objectID\": \"7815285\",\n",
        "    \"author\": \"Leynos\",\n",
        "    \"points\": 1,\n",
        "    \"title\": \"Making Twitter Easier to Use\",\n",
        "    \"_tags\": [\n",
        "        \"story\",\n",
        "        \"author_Leynos\",\n",
        "        \"story_7815285\"\n",
        "    ],\n",
        "    \"num_comments\": 0,\n",
        "    \"_highlightResult\": {\n",
        "        \"story_text\": {\n",
        "            \"matchedWords\": [],\n",
        "            \"value\": \"\",\n",
        "            \"matchLevel\": \"none\"\n",
        "        },\n",
        "        \"author\": {\n",
        "            \"matchedWords\": [],\n",
        "            \"value\": \"Leynos\",\n",
        "            \"matchLevel\": \"none\"\n",
        "        },\n",
        "        \"url\": {\n",
        "            \"matchedWords\": [],\n",
        "            \"value\": \"http://bits.blogs.nytimes.com/2014/05/28/making-twitter-easier-to-use/\",\n",
        "            \"matchLevel\": \"none\"\n",
        "        },\n",
        "        \"title\": {\n",
        "            \"matchedWords\": [],\n",
        "            \"value\": \"Making Twitter Easier to Use\",\n",
        "            \"matchLevel\": \"none\"\n",
        "        }\n",
        "    },\n",
        "    \"story_url\": null\n",
        "}\n",
        "```\n",
        "\n",
        "Using this dataset, we will run a sequence of basic natural language processing tasks using our Pipeline class. The goal will be to find the top 100 keywords of Hacker News posts in 2014. Because Hacker News is the most popular technology social media site, this will give us an understanding of the most talked about tech topics in 2014!\n",
        "\n",
        "\n",
        "**Tasks**\n",
        "\n",
        "* Import the Pipeline class from the pipeline module. You can import it like so: `from pipeline import Pipeline`. But before doing this, download the zip file (https://bit.ly/310BfgJ) that contains a file that contains this Class. Then upload it to google colab, like you do with other dataset files.\n",
        "\n",
        "* Instantiate an instance of the `Pipeline` class and assign it to the variable `pipeline`."
      ]
    },
    {
      "cell_type": "code",
      "metadata": {
        "id": "oI_Kzrlz9bzO"
      },
      "source": [
        "# Your code goes here\n",
        "from pipeline import Pipeline\n",
        "class Pipeline:\n",
        "  pass\n",
        "pipeline = Pipeline()"
      ],
      "execution_count": null,
      "outputs": []
    },
    {
      "cell_type": "markdown",
      "metadata": {
        "id": "1mQb_7Xy-2ZX"
      },
      "source": [
        "## 2. Loading the JSON Data"
      ]
    },
    {
      "cell_type": "markdown",
      "metadata": {
        "id": "H4bb33xp-9qg"
      },
      "source": [
        "We'll start the project by loading the JSON file data into Python. Because JSON files resemble a key-value dictionary, the goal is to parse the JSON file into a Python `dict` object. We can accomplish this using the `json` module.\n",
        "\n",
        "In a previous session, we worked with this JSON parser before. As a reminder, this is how you can parse JSON strings:\n",
        "\n",
        "```\n",
        "import json\n",
        "​\n",
        "# Notice that `sample_json` is a string, and\n",
        "# NOT a dict.\n",
        "sample_json = '{\"hello\": \"world\"}'\n",
        "sample_dict = json.loads(sample_json)\n",
        "print(sample_dict)\n",
        "{'hello': 'world'}\n",
        "```\n",
        "\n",
        "To load in a file, json exposes a method called `json.load()` which takes in a Python file object as the first argument. Using this `json.load()` method, we'll load the `hn_stories_2014.json` file as a Python dict.\n",
        "\n",
        "\n",
        "**Tasks**\n",
        "1. Create a `pipeline.task()` function that takes in no arguments.\n",
        "2. Call the function `file_to_json()`, where the function does the following:\n",
        "* Loads the `hn_stories_2014.json` file into a Python dict.\n",
        "* Returns the list of `stories`.\n",
        "\n",
        "\n"
      ]
    },
    {
      "cell_type": "code",
      "metadata": {
        "id": "HtoPo1jI_Z4J"
      },
      "source": [
        "# Your code goes here\n",
        "#Use the import function to import the JSON module\n",
        "import json\n",
        "\n",
        "#convert the python dictionary above into a JSON string that can be written into a file.\n",
        "json_string = json.dumps('/content/pipeline.py')\n",
        "#convert it back to a dictionary structure:\n",
        "df= json.loads(json_string)\n",
        "class Pipeline: \n",
        "     def file_to_json():\n",
        "       if hn_stories_2014.json:\n",
        "         with open('hn_stories_2014.json','w')as f:\n",
        "           json.dump(df,f)\n",
        "           stories = df['stories']\n",
        "           return stories\n",
        "\n"
      ],
      "execution_count": null,
      "outputs": []
    },
    {
      "cell_type": "markdown",
      "metadata": {
        "id": "H6aze2Kk_dwZ"
      },
      "source": [
        "## 3. Filtering the Stories"
      ]
    },
    {
      "cell_type": "markdown",
      "metadata": {
        "id": "sZN5q8BD_het"
      },
      "source": [
        "Great! Now that we have loaded in all the stories as a list of `dict` objects, we can now operate on them. Let's start by filtering the list of stories to get the most popular stories of the year.\n",
        "\n",
        "Like any social link aggregator site, individual users can post whatever content they want. The reason we want the most popular stories is to ensure that we select stories that were the most talked about during the year. We can filter for popular stories by ensuring they are links (not `Ask HN` posts), have a good number of points, and have some comments.\n",
        "\n",
        "**Tasks**\n",
        "\n",
        "* Create a `pipeline.task()` function that depends on the `file_to_json()` function.\n",
        "* Call the new function `filter_stories()`, that filters popular stories that have more than 50 points, more than 1 comment, and do not begin with `Ask HN`.\n",
        "* `filter_stories()` should return a generator of these filtered stories."
      ]
    },
    {
      "cell_type": "code",
      "metadata": {
        "id": "odn6TOet_gIj"
      },
      "source": [
        "# Your code goes here\n",
        "class Pipeline: \n",
        "     def file_to_json():\n",
        "       if hn_stories_2014.json:\n",
        "         with open('hn_stories_2014.json','w')as f:\n",
        "           json.dump(df,f)\n",
        "           stories = df['stories']\n",
        "           return stories\n",
        "           \n",
        "           def filter_stories(stories,depend_on=file_to_json):\n",
        "              for i in stories:\n",
        "                if (i['points'] > 50) & (i['num_comments'] > 1) & (not i['title'].startswith('Ask HN')):\n",
        "                  return\n",
        "                yield filter_stories\n"
      ],
      "execution_count": null,
      "outputs": []
    },
    {
      "cell_type": "markdown",
      "metadata": {
        "id": "UKlzGqGc_9Go"
      },
      "source": [
        "## 4. Convert to CSV"
      ]
    },
    {
      "cell_type": "markdown",
      "metadata": {
        "id": "xBYnNaA8AAbj"
      },
      "source": [
        "With a reduced set of stories, it's time to write these `dict` objects to a CSV file. The purpose of translating the dictionaries to a CSV is that we want to have a consistent data format when running the later summarizations. By keeping consistent data formats, each of your pipeline tasks will be adaptable with future task requirements.\n",
        "\n",
        "\n",
        "**Tasks**\n",
        "\n",
        "1. Create a `pipeline.task()` function that depends on the `filter_stories()` function.\n",
        "2. Call the new function `json_to_csv()`, that writes the filtered JSON stories to a CSV file:\n",
        "* Import `build_csv` from the `pipeline` module and `io`. The `build_csv()` function has the same API as the one you wrote in the second and third lesson.\n",
        "* Create a CSV file with the headers `'objectID', 'created_at', 'url', 'points', and 'title'`.\n",
        "* Parse the `created_at` column using `datetime.datetime`.\n",
        "3. `json_to_csv()` should return the value from `build_csv()` using the above header, lines, and the `io.StringIO()` file."
      ]
    },
    {
      "cell_type": "code",
      "metadata": {
        "id": "Opan-tnstMzR"
      },
      "source": [
        "from pipeline import build_csv\n",
        "from datetime import datetime\n",
        "import io\n",
        "\n",
        "class Pipeline: \n",
        "     def file_to_json():\n",
        "       if hn_stories_2014.json:\n",
        "         with open('hn_stories_2014.json','w')as f:\n",
        "           json.dump(df,f)\n",
        "           stories = df['stories']\n",
        "           return stories\n",
        "           \n",
        "           def filter_stories(stories,depend_on=file_to_json):\n",
        "              for i in stories:\n",
        "                if (i['points'] > 50) & (i['num_comments'] > 1) & (not i['title'].startswith('Ask HN')):\n",
        "                  return\n",
        "                yield filter_stories\n",
        "                \n",
        "                def json_to_csv(self,depends_on=filter_stories):\n",
        "                  file = open('temporary.csv', 'w+')\n",
        "                  csv_file = build_csv(\n",
        "                      parsed,\n",
        "                      file,\n",
        "                      header=[\n",
        "                          'objectID', 'created_at', 'url',\n",
        "                          'points', 'title'])\n",
        "                  def parse_time(time_str):\n",
        "                    time_obj = datetime(int(time_str[0:4]),int(time_str[5:7]),int(time_str[8:10]))\n",
        "                    return time_obj\n",
        "                return build_csv(filtered_stories, header=['objectID', 'created_at', 'url', 'points', 'title'], file=io.StringIO())\n"
      ],
      "execution_count": null,
      "outputs": []
    },
    {
      "cell_type": "markdown",
      "metadata": {
        "id": "AcNzGr7AAhpV"
      },
      "source": [
        "## 5. Extract Title Column"
      ]
    },
    {
      "cell_type": "markdown",
      "metadata": {
        "id": "mrIsv8JlAi_x"
      },
      "source": [
        "Using the CSV file format we created in the previous task, we can now extract the title column. Once we have extracted the titles of each popular post, we can then run the next word frequency task. To extract the titles, we'll follow the steps in the tasks we wrote in the past.\n",
        "\n",
        "The steps were: **1.** Import csv, and create a `csv.reader()` object from the file object. **2.** Find the index of the title in the header. **3.** Iterate the through the reader, and return each item from the reader in the corresponding title index position.\n",
        "\n",
        "**Tasks**\n",
        "\n",
        "1. Create a `pipeline.task()` function that depends on the `json_to_csv()` function.\n",
        "2. Call the new function `extract_titles()`, that returns of a generator of every Hacker News story title:\n",
        "* Follow the steps listed in the instructions.\n",
        "3. `extract_titles()` should return a generator of titles."
      ]
    },
    {
      "cell_type": "code",
      "metadata": {
        "id": "IsiFTvdRAu8P"
      },
      "source": [
        "# Your code goes here\n",
        "\n",
        "class Pipeline: \n",
        "     def file_to_json():\n",
        "       if hn_stories_2014.json:\n",
        "         with open('hn_stories_2014.json','w')as f:\n",
        "           json.dump(df,f)\n",
        "           stories = df['stories']\n",
        "           return stories\n",
        "           \n",
        "           def filter_stories(stories,depend_on=file_to_json):\n",
        "              for i in stories:\n",
        "                if (i['points'] > 50) & (i['num_comments'] > 1) & (not i['title'].startswith('Ask HN')):\n",
        "                  return\n",
        "                yield filter_stories\n",
        "                \n",
        "                def json_to_csv(self,depends_on=filter_stories):\n",
        "                  file = open('temporary.csv', 'w+')\n",
        "                  csv_file = build_csv(\n",
        "                      parsed,\n",
        "                      file,\n",
        "                      header=[\n",
        "                          'objectID', 'created_at', 'url',\n",
        "                          'points', 'title'])\n",
        "                  def parse_time(time_str):\n",
        "                    time_obj = datetime(int(time_str[0:4]),int(time_str[5:7]),int(time_str[8:10]))\n",
        "                    return time_obj\n",
        "                return build_csv(filtered_stories, header=['objectID', 'created_at', 'url', 'points', 'title'], file=io.StringIO())\n",
        "\n",
        "\n",
        "                def extract_titles(self,depends_on=json_to_csv):\n",
        "                    reader = csv.reader(self)\n",
        "                    header = next(reader)\n",
        "                    idx = header.index('title')\n",
        "                    for line in reader:\n",
        "                      yield line[idx]\n"
      ],
      "execution_count": null,
      "outputs": []
    },
    {
      "cell_type": "markdown",
      "metadata": {
        "id": "_dnd0tf0BCfq"
      },
      "source": [
        "## 6. Clean the Titles"
      ]
    },
    {
      "cell_type": "markdown",
      "metadata": {
        "id": "2toQ-M8NBWCU"
      },
      "source": [
        "Because we're trying to create a word frequency model of words from Hacker News titles, we need a way to create a consistent set of words to use. For example, words like `Google, google, GooGle?, and google.`, all mean the same keyword: google. If we were to split the title into words, however, they would all be lumped into different categories.\n",
        "\n",
        "To clean the titles, we should make sure to lower case the titles, and to remove the punctuation. An easy way to rid a string of punctuation is to check each character, determine if it is a letter or punctuation, and only keep the letter. From the string package, we are given a handy string constant that contains all the punctuation needed:\n",
        "\n",
        "```\n",
        "import string\n",
        "​\n",
        "print(string.punctuation)\n",
        "'!\"#%&'()*+,-./:;<=>?@[\\\\]^_`{|}~'\n",
        "```\n",
        "\n",
        "**Tasks**\n",
        "\n",
        "1. Create a `pipeline.task()` function that depends on the `extract_titles()` function.\n",
        "2. Call the new function `clean_titles()`, that returns of a generator of cleaned titles:\n",
        "* Ensure the title is lower case.\n",
        "* Remove any punctuation from the title."
      ]
    },
    {
      "cell_type": "code",
      "metadata": {
        "id": "vZ7PUnPQBLGv"
      },
      "source": [
        "# Your code goes here\n",
        "import string\n",
        "class Pipeline: \n",
        "     def file_to_json():\n",
        "       if hn_stories_2014.json:\n",
        "         with open('hn_stories_2014.json','w')as f:\n",
        "           json.dump(df,f)\n",
        "           stories = df['stories']\n",
        "           return stories\n",
        "           \n",
        "           def filter_stories(stories,depend_on=file_to_json):\n",
        "              for i in stories:\n",
        "                if (i['points'] > 50) & (i['num_comments'] > 1) & (not i['title'].startswith('Ask HN')):\n",
        "                  return\n",
        "                yield filter_stories\n",
        "                \n",
        "                def json_to_csv(self,depends_on=filter_stories):\n",
        "                  file = open('temporary.csv', 'w+')\n",
        "                  csv_file = build_csv(\n",
        "                      parsed,\n",
        "                      file,\n",
        "                      header=[\n",
        "                          'objectID', 'created_at', 'url',\n",
        "                          'points', 'title'])\n",
        "                  def parse_time(time_str):\n",
        "                    time_obj = datetime(int(time_str[0:4]),int(time_str[5:7]),int(time_str[8:10]))\n",
        "                    return time_obj\n",
        "                return build_csv(filtered_stories, header=['objectID', 'created_at', 'url', 'points', 'title'], file=io.StringIO())\n",
        "\n",
        "\n",
        "                def extract_titles(self,depends_on=json_to_csv):\n",
        "                    reader = csv.reader(self)\n",
        "                    header = next(reader)\n",
        "                    idx = header.index('title')\n",
        "                    for line in reader:\n",
        "                      yield line[idx]\n",
        "\n",
        "                def clean_titles(self,depends_on=extract_titles):\n",
        "                  # initializing punctuations string\n",
        "                  # punc= ('!\"#%&'()*+-/<=>?@[\\\\]^_`{|}~')\n",
        "                  for title in titles:\n",
        "                      if title not in string.punctuation:   \n",
        "                        titles = titles.str.lower()\n",
        "                        yield cleaned_titles\n",
        "                        \n"
      ],
      "execution_count": null,
      "outputs": []
    },
    {
      "cell_type": "markdown",
      "metadata": {
        "id": "h-wvOCtLBv7A"
      },
      "source": [
        "## 7. Create the Word Frequency Dictionary"
      ]
    },
    {
      "cell_type": "markdown",
      "metadata": {
        "id": "0N-VYShXByPK"
      },
      "source": [
        "With a cleaned title, we can now build the word frequency dictionary. A word frequency dictionary are key value pairs that connects a word to the number of times it is used in a text. Here's an example of how a word frequency would work on a single string:\n",
        "\n",
        "```\n",
        "sample_text = \"Wow, the Dataquest Data Engineering track is the best track!\"\n",
        "print(word_freq_from_string(sample_text))\n",
        "\n",
        "{'wow': 1, 'the': 2, 'dataquest': 1, 'data': 1, 'engineering': 1, 'track': 2, 'is': 1, 'best': 1}\n",
        "```\n",
        "\n",
        "As you can see, the title has been stripped of its punctuation and lower cased. Furthermore, to find actual keywords, we should enforce the word frequency dictionary to not include stop words. Stop words are words that occur frequently in language like `\"the\", \"or\", etc.`, and are commonly rejected in keyword searches.\n",
        "\n",
        "We have included a module called `stop_words` (https://bit.ly/3nOTeiJ) with a tuple of the most common used stop words in the English language. You can import in your notebook by using from `stop_words` import `stop_words`. Download it, extract it, and upload it to colab.\n",
        "\n",
        "You can import in your notebook by using from `stop_words` import `stop_words`. Here's what the sample text would look like without the stop words:\n",
        "\n",
        "```\n",
        "sample_text = \"Wow, the Dataquest Data Engineering track is the best track!\"\n",
        "print(word_freq_no_stop_words(sample_text))\n",
        "\n",
        "{'wow': 1, 'dataquest': 1, 'data': 1, 'engineering': 1, 'track': 2, 'best': 1}\n",
        "```\n",
        "\n",
        "**Tasks**\n",
        "1. Create a `pipeline.task()` function that depends on the `clean_titles()` function.\n",
        "2. Call the new function `build_keyword_dictionary()`, that returns a dictionary of the word frequency of all the HN titles.\n",
        "* The word frequency should **not** include stop words.\n",
        "* You can find the words by spliting the titles dictionary on the empty space character .\n",
        "* Empty words **should** be ignored.\n",
        "\n"
      ]
    },
    {
      "cell_type": "code",
      "metadata": {
        "id": "4QBBHmU4Ccjz"
      },
      "source": [
        "# Your code goes here\n",
        "import stop_words\n",
        "class Pipeline: \n",
        "     def file_to_json():\n",
        "       if hn_stories_2014.json:\n",
        "         with open('hn_stories_2014.json','w')as f:\n",
        "           json.dump(df,f)\n",
        "           stories = df['stories']\n",
        "           return stories\n",
        "           \n",
        "           def filter_stories(stories,depend_on=file_to_json):\n",
        "              for i in stories:\n",
        "                if (i['points'] > 50) & (i['num_comments'] > 1) & (not i['title'].startswith('Ask HN')):\n",
        "                  return\n",
        "                yield filter_stories\n",
        "                \n",
        "                def json_to_csv(self,depends_on=filter_stories):\n",
        "                  file = open('temporary.csv', 'w+')\n",
        "                  csv_file = build_csv(\n",
        "                      parsed,\n",
        "                      file,\n",
        "                      header=[\n",
        "                          'objectID', 'created_at', 'url',\n",
        "                          'points', 'title'])\n",
        "                  def parse_time(time_str):\n",
        "                    time_obj = datetime(int(time_str[0:4]),int(time_str[5:7]),int(time_str[8:10]))\n",
        "                    return time_obj\n",
        "                return build_csv(filtered_stories, header=['objectID', 'created_at', 'url', 'points', 'title'], file=io.StringIO())\n",
        "\n",
        "\n",
        "                def extract_titles(self,depends_on=json_to_csv):\n",
        "                    reader = csv.reader(self)\n",
        "                    header = next(reader)\n",
        "                    idx = header.index('title')\n",
        "                    for line in reader:\n",
        "                      yield line[idx]\n",
        "\n",
        "                def clean_titles(self,depends_on=extract_titles):\n",
        "                  # initializing punctuations string\n",
        "                  # punc= ('!\"#%&'()*+-/<=>?@[\\\\]^_`{|}~')\n",
        "                  for title in titles:\n",
        "                      if title not in string.punctuation:   \n",
        "                        titles = titles.str.lower()\n",
        "                        yield cleaned_titles\n",
        "\n",
        "                def build_keyword_dictionary(self,depends_on=clean_titles):\n",
        "                  fred={}\n",
        "                  for word in clean_titles:\n",
        "                    if word not in stop_words:\n",
        "                      freq[word] = 0\n",
        "                      freq[word] = +1\n",
        "                      return freq\n",
        "                        "
      ],
      "execution_count": null,
      "outputs": []
    },
    {
      "cell_type": "markdown",
      "metadata": {
        "id": "rB_cULLWCisd"
      },
      "source": [
        "## 8. Sort the Top Words"
      ]
    },
    {
      "cell_type": "markdown",
      "metadata": {
        "id": "WPb8mQlBClvi"
      },
      "source": [
        "Finally, we're ready to sort the top words used in all the titles. In this final task, it's up to you to decide how you want to sort the top words. The goal is to output a list of tuples with (`word`, `frequency`) as the entries sorted from most used, to least most used.\n",
        "\n",
        "**Tasks**\n",
        "\n",
        "1. Create a `pipeline.task()` function that depends on the `build_keyword_dictionary()` function.\n",
        "2. The new function can be named whatever you want, but it should return a list of the top 100 tuples described in the explanation above.\n",
        "3. Run the pipline using `pipeline.run()`, and print the ouput of the new task function.\n"
      ]
    },
    {
      "cell_type": "code",
      "metadata": {
        "id": "1-WSkritC0BQ"
      },
      "source": [
        "# Your code goes here\n",
        "class Pipeline: \n",
        "     def file_to_json():\n",
        "       if hn_stories_2014.json:\n",
        "         with open('hn_stories_2014.json','w')as f:\n",
        "           json.dump(df,f)\n",
        "           stories = df['stories']\n",
        "           return stories\n",
        "           \n",
        "           def filter_stories(stories,depend_on=file_to_json):\n",
        "              for i in stories:\n",
        "                if (i['points'] > 50) & (i['num_comments'] > 1) & (not i['title'].startswith('Ask HN')):\n",
        "                  return\n",
        "                yield filter_stories\n",
        "                \n",
        "                def json_to_csv(self,depends_on=filter_stories):\n",
        "                  file = open('temporary.csv', 'w+')\n",
        "                  csv_file = build_csv(\n",
        "                      parsed,\n",
        "                      file,\n",
        "                      header=[\n",
        "                          'objectID', 'created_at', 'url',\n",
        "                          'points', 'title'])\n",
        "                  def parse_time(time_str):\n",
        "                    time_obj = datetime(int(time_str[0:4]),int(time_str[5:7]),int(time_str[8:10]))\n",
        "                    return time_obj\n",
        "                return build_csv(filtered_stories, header=['objectID', 'created_at', 'url', 'points', 'title'], file=io.StringIO())\n",
        "\n",
        "\n",
        "                def extract_titles(self,depends_on=json_to_csv):\n",
        "                    reader = csv.reader(self)\n",
        "                    header = next(reader)\n",
        "                    idx = header.index('title')\n",
        "                    for line in reader:\n",
        "                      yield line[idx]\n",
        "\n",
        "                def clean_titles(self,depends_on=extract_titles):\n",
        "                  # initializing punctuations string\n",
        "                  # punc= ('!\"#%&'()*+-/<=>?@[\\\\]^_`{|}~')\n",
        "                  for title in titles:\n",
        "                      if title not in string.punctuation:   \n",
        "                        titles = titles.str.lower()\n",
        "                        yield cleaned_titles\n",
        "\n",
        "                def build_keyword_dictionary(self,depends_on=clean_titles):\n",
        "                  fred={}\n",
        "                  for word in clean_titles:\n",
        "                    if word not in stop_words:\n",
        "                      freq[word] = 0\n",
        "                      freq[word] = +1\n",
        "                      return freq\n",
        "                        \n",
        "                def top_words(self,depends_on=build_keyword_dictionary):\n",
        "                  tuples = ()\n",
        "                  top = []\n",
        "                  for key,value in freq.items():\n",
        "                    tuples = (key, value)\n",
        "                    top.append(tuples)\n",
        "                  return (sorted(top, key = lambda x: x[1],reverse=True)[0:100])\n",
        "\n",
        "# top_words = pipeline.run()\n",
        "\n",
        "\n",
        "\n",
        "# Sort on the second tuple value (the integer).\n",
        "# print(sorted(unsorted, key=lambda x: x[1]))"
      ],
      "execution_count": null,
      "outputs": []
    },
    {
      "cell_type": "markdown",
      "metadata": {
        "id": "h3axa8FJDLfr"
      },
      "source": [
        "## Next Steps"
      ]
    },
    {
      "cell_type": "markdown",
      "metadata": {
        "id": "zXThiJgaDQkB"
      },
      "source": [
        "The final result yielded some interesting keywords. There were terms like `bitcoin` (the cryptocurrency), `heartbleed` (the 2014 hack), and many others. Even though this was a basic natural language processing task, it did provide some interesting insights into conversations from 2014. Nonetheless, now that you have created the pipeline, there are additional tasks you can perform with the data.\n",
        "\n",
        "Here are just a few:\n",
        "\n",
        "* Rewrite the Pipeline class' output to save a file of the output for each task. This will allow you to \"checkpoint\" tasks so they don't have to be run twice.\n",
        "* Use the `nltk` package for more advanced natural language processing tasks.\n",
        "* Convert to a CSV before filtering, so you can keep all the stories from 2014 in a raw file.\n",
        "* Fetch the data from Hacker News directly from a JSON API. Instead of reading from the file we gave, you can perform additional data processing using newer data."
      ]
    }
  ]
}